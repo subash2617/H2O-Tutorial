{
  "nbformat": 4,
  "nbformat_minor": 0,
  "metadata": {
    "colab": {
      "name": "H2O Tutorial.ipynb",
      "provenance": [],
      "collapsed_sections": [],
      "include_colab_link": true
    },
    "kernelspec": {
      "name": "python3",
      "display_name": "Python 3"
    }
  },
  "cells": [
    {
      "cell_type": "markdown",
      "metadata": {
        "id": "view-in-github",
        "colab_type": "text"
      },
      "source": [
        "<a href=\"https://colab.research.google.com/github/subash2617/H2O-Tutorial/blob/main/H2O_Tutorial.ipynb\" target=\"_parent\"><img src=\"https://colab.research.google.com/assets/colab-badge.svg\" alt=\"Open In Colab\"/></a>"
      ]
    },
    {
      "cell_type": "markdown",
      "metadata": {
        "id": "OZgOlT_AvjNA"
      },
      "source": [
        "**Introduction**"
      ]
    },
    {
      "cell_type": "markdown",
      "metadata": {
        "id": "j1MlTlyxsb3y"
      },
      "source": [
        "H2O is an open source Machine Learning framework with full-tested implementations of several widely-accepted ML algorithms. You just have to pick up the algorithm from its huge repository and apply it to your dataset. It contains the most widely used statistical and ML algorithms.\n",
        "\n",
        "H2O provides an easy-to-use open source platform for applying different ML algorithms on a given dataset. It provides **several statistical and ML algorithms including deep learning.**\n",
        "\n",
        "In this tutorial, we will consider examples and understand how to go about working with H2O.\n",
        "\n",
        "**Audience**\n",
        "This tutorial is designed to help all those learners who are aiming to develop a Machine Learning model on a huge database.\n",
        "\n",
        "Prerequisites\n",
        "\n",
        "---\n",
        "\n",
        "\n",
        "It is assumed that the learner has a basic understanding of Machine Learning and is familiar with Python."
      ]
    },
    {
      "cell_type": "markdown",
      "metadata": {
        "id": "p9fzXkhfvXwz"
      },
      "source": [
        "**H2O Setup Guide**\n"
      ]
    },
    {
      "cell_type": "markdown",
      "metadata": {
        "id": "D-i2rltXsnYs"
      },
      "source": [
        " Have you ever been asked to develop a Machine Learning model on a **huge database**? Typically, the database will provide you  and ask you to make certain predictions such as who will be the potential buyers; if there can be an early detection of fraudulent cases, etc. To answer these questions, your task would be to develop a Machine Learning algorithm that would provide an answer to the customer’s query. Developing a Machine Learning algorithm from scratch is not an easy task and why should you do this when there are **several ready-to-use Machine Learning libraries** available in the market.\n",
        "\n",
        "These days, you would rather use these libraries, apply a well-tested algorithm from these libraries and look at its performance. If the performance were not within acceptable limits, you would try to either fine-tune the current algorithm or try an altogether different one.\n",
        "\n",
        "Likewise, you may try multiple algorithms on the same dataset and then pick up the best one that satisfactorily meets the customer’s requirements. This is where H2O comes to your rescue. It is an open source Machine Learning framework with full-tested implementations of several widely-accepted ML algorithms. You just have to pick up the algorithm from its huge repository and apply it to your dataset. It contains the most widely used statistical and ML algorithms.\n",
        "\n",
        "To mention a few here it includes **gradient boosted machines (GBM), generalized linear model (GLM), deep learning and many more**. Not only that it also supports ***AutoML functionality*** that will rank the performance of different algorithms on your dataset, thus reducing your efforts of finding the best performing model. It is an in-memory platform that provides superb performance.\n",
        "\n",
        "To install the H2O on your machine . see this web link [H2O Installation Tutorial](https://www.tutorialspoint.com/h2o/h2o_installation.htm)We will understand how to use this in the command line so that you understand its working line-wise. If you are a Python lover, you may use Jupyter or any other IDE of your choice for developing H2O applications. \n",
        "\n",
        "The H2O also provides a web-based tool to test the different algorithms on your dataset. This is called Flow.\n",
        "\n",
        "The tutorial will introduce you to the use of **Flow**. Alongside, we will discuss the use of **AutoML** that will identify the best performing algorithm on your dataset. Are you not excited to learn H2O? Keep reading!\n"
      ]
    },
    {
      "cell_type": "markdown",
      "metadata": {
        "id": "hgyIACPVwPp8"
      },
      "source": [
        "** H20 provide many in-built ML and Deep Leraing Algorithms. but in this tutorial my foucs to provide AutoML tutorial.**  "
      ]
    },
    {
      "cell_type": "markdown",
      "metadata": {
        "id": "27ufYZvdwiVa"
      },
      "source": [
        "**To use AutoML, start a new Jupyter notebook and follow the steps shown below.**"
      ]
    },
    {
      "cell_type": "markdown",
      "metadata": {
        "id": "BJV5AOH9w4Q8"
      },
      "source": [
        "**Importing AutoML**"
      ]
    },
    {
      "cell_type": "markdown",
      "metadata": {
        "id": "spdT-PG8w-FF"
      },
      "source": [
        "First import H2O and AutoML package into the project using the following two statements −"
      ]
    },
    {
      "cell_type": "code",
      "metadata": {
        "id": "TKsX3G38xBsF"
      },
      "source": [
        "!pip install -f http://h2o-release.s3.amazonaws.com/h2o/latest_stable_Py.html h2o\n"
      ],
      "execution_count": null,
      "outputs": []
    },
    {
      "cell_type": "code",
      "metadata": {
        "id": "sw_LJHofxpmq"
      },
      "source": [
        "import h2o\n",
        "from h2o.automl import H2OAutoML"
      ],
      "execution_count": null,
      "outputs": []
    },
    {
      "cell_type": "markdown",
      "metadata": {
        "id": "Q6b_uwHbxyVU"
      },
      "source": [
        "**Initialize H2O**"
      ]
    },
    {
      "cell_type": "markdown",
      "metadata": {
        "id": "Sb8ClgEjx1TM"
      },
      "source": [
        "Initialize h2o using the following statement −"
      ]
    },
    {
      "cell_type": "code",
      "metadata": {
        "id": "CB6Ky4xYx5Im",
        "colab": {
          "base_uri": "https://localhost:8080/",
          "height": 545
        },
        "outputId": "a608ac5e-e07b-411b-ac0e-4a480e77870d"
      },
      "source": [
        "h2o.init()"
      ],
      "execution_count": null,
      "outputs": [
        {
          "output_type": "stream",
          "text": [
            "Checking whether there is an H2O instance running at http://localhost:54321 ..... not found.\n",
            "Attempting to start a local H2O server...\n",
            "  Java Version: openjdk version \"11.0.7\" 2020-04-14; OpenJDK Runtime Environment (build 11.0.7+10-post-Ubuntu-2ubuntu218.04); OpenJDK 64-Bit Server VM (build 11.0.7+10-post-Ubuntu-2ubuntu218.04, mixed mode, sharing)\n",
            "  Starting server from /usr/local/lib/python3.6/dist-packages/h2o/backend/bin/h2o.jar\n",
            "  Ice root: /tmp/tmpotwijlgi\n",
            "  JVM stdout: /tmp/tmpotwijlgi/h2o_unknownUser_started_from_python.out\n",
            "  JVM stderr: /tmp/tmpotwijlgi/h2o_unknownUser_started_from_python.err\n",
            "  Server is running at http://127.0.0.1:54321\n",
            "Connecting to H2O server at http://127.0.0.1:54321 ... successful.\n"
          ],
          "name": "stdout"
        },
        {
          "output_type": "display_data",
          "data": {
            "text/html": [
              "<div style=\"overflow:auto\"><table style=\"width:50%\"><tr><td>H2O_cluster_uptime:</td>\n",
              "<td>02 secs</td></tr>\n",
              "<tr><td>H2O_cluster_timezone:</td>\n",
              "<td>Etc/UTC</td></tr>\n",
              "<tr><td>H2O_data_parsing_timezone:</td>\n",
              "<td>UTC</td></tr>\n",
              "<tr><td>H2O_cluster_version:</td>\n",
              "<td>3.30.0.7</td></tr>\n",
              "<tr><td>H2O_cluster_version_age:</td>\n",
              "<td>8 days </td></tr>\n",
              "<tr><td>H2O_cluster_name:</td>\n",
              "<td>H2O_from_python_unknownUser_os1mza</td></tr>\n",
              "<tr><td>H2O_cluster_total_nodes:</td>\n",
              "<td>1</td></tr>\n",
              "<tr><td>H2O_cluster_free_memory:</td>\n",
              "<td>3.180 Gb</td></tr>\n",
              "<tr><td>H2O_cluster_total_cores:</td>\n",
              "<td>2</td></tr>\n",
              "<tr><td>H2O_cluster_allowed_cores:</td>\n",
              "<td>2</td></tr>\n",
              "<tr><td>H2O_cluster_status:</td>\n",
              "<td>accepting new members, healthy</td></tr>\n",
              "<tr><td>H2O_connection_url:</td>\n",
              "<td>http://127.0.0.1:54321</td></tr>\n",
              "<tr><td>H2O_connection_proxy:</td>\n",
              "<td>{\"http\": null, \"https\": null}</td></tr>\n",
              "<tr><td>H2O_internal_security:</td>\n",
              "<td>False</td></tr>\n",
              "<tr><td>H2O_API_Extensions:</td>\n",
              "<td>Amazon S3, XGBoost, Algos, AutoML, Core V3, TargetEncoder, Core V4</td></tr>\n",
              "<tr><td>Python_version:</td>\n",
              "<td>3.6.9 final</td></tr></table></div>"
            ],
            "text/plain": [
              "--------------------------  ------------------------------------------------------------------\n",
              "H2O_cluster_uptime:         02 secs\n",
              "H2O_cluster_timezone:       Etc/UTC\n",
              "H2O_data_parsing_timezone:  UTC\n",
              "H2O_cluster_version:        3.30.0.7\n",
              "H2O_cluster_version_age:    8 days\n",
              "H2O_cluster_name:           H2O_from_python_unknownUser_os1mza\n",
              "H2O_cluster_total_nodes:    1\n",
              "H2O_cluster_free_memory:    3.180 Gb\n",
              "H2O_cluster_total_cores:    2\n",
              "H2O_cluster_allowed_cores:  2\n",
              "H2O_cluster_status:         accepting new members, healthy\n",
              "H2O_connection_url:         http://127.0.0.1:54321\n",
              "H2O_connection_proxy:       {\"http\": null, \"https\": null}\n",
              "H2O_internal_security:      False\n",
              "H2O_API_Extensions:         Amazon S3, XGBoost, Algos, AutoML, Core V3, TargetEncoder, Core V4\n",
              "Python_version:             3.6.9 final\n",
              "--------------------------  ------------------------------------------------------------------"
            ]
          },
          "metadata": {
            "tags": []
          }
        }
      ]
    },
    {
      "cell_type": "markdown",
      "metadata": {
        "id": "5jm17fPgyEmf"
      },
      "source": [
        "**Loading Data**"
      ]
    },
    {
      "cell_type": "markdown",
      "metadata": {
        "id": "Gz6aqob7yHcE"
      },
      "source": [
        "We are using iris.csv dataset.Load the data using the following statement −"
      ]
    },
    {
      "cell_type": "code",
      "metadata": {
        "id": "g1sXZ96M3gCU",
        "colab": {
          "base_uri": "https://localhost:8080/",
          "height": 34
        },
        "outputId": "62102ceb-d054-4b6a-cb77-e55b3ef0e1a7"
      },
      "source": [
        "from sklearn import datasets\n",
        "data = h2o.import_file('https://gist.githubusercontent.com/btkhimsar/ed560337d8b944832d1c1f55fac093fc/raw/6f9306ad21398ea43cba4f7d537619d0e07d5ae3/iris.csv')\n",
        "\n"
      ],
      "execution_count": null,
      "outputs": [
        {
          "output_type": "stream",
          "text": [
            "Parse progress: |█████████████████████████████████████████████████████████| 100%\n"
          ],
          "name": "stdout"
        }
      ]
    },
    {
      "cell_type": "code",
      "metadata": {
        "id": "HikaP0f24P0Q",
        "colab": {
          "base_uri": "https://localhost:8080/",
          "height": 34
        },
        "outputId": "fd1ba140-1951-4c94-a8c4-7dfd19915a63"
      },
      "source": [
        "data.columns"
      ],
      "execution_count": null,
      "outputs": [
        {
          "output_type": "execute_result",
          "data": {
            "text/plain": [
              "['sepal.length', 'sepal.width', 'petal.length', 'petal.width', 'variety']"
            ]
          },
          "metadata": {
            "tags": []
          },
          "execution_count": 11
        }
      ]
    },
    {
      "cell_type": "markdown",
      "metadata": {
        "id": "91U-HLYE47JN"
      },
      "source": [
        "**Preparing Dataset**"
      ]
    },
    {
      "cell_type": "markdown",
      "metadata": {
        "id": "vpshmgOA49zR"
      },
      "source": [
        "We need to decide on the features and the prediction columns. We use the same features and the predication column as in our earlier case. Set the features and the output column using the following two statements −"
      ]
    },
    {
      "cell_type": "code",
      "metadata": {
        "id": "5ynCJyqw5Bhm"
      },
      "source": [
        "features = ['sepal.length', 'sepal.width', 'petal.length', 'petal.width']\n",
        "output = 'variety'"
      ],
      "execution_count": null,
      "outputs": []
    },
    {
      "cell_type": "markdown",
      "metadata": {
        "id": "aq6VEN4N5GRu"
      },
      "source": [
        "Split the data in 80:20 ratio for training and testing −"
      ]
    },
    {
      "cell_type": "code",
      "metadata": {
        "id": "6Zcqvxu65IkR"
      },
      "source": [
        "train, test = data.split_frame(ratios=[0.8])"
      ],
      "execution_count": null,
      "outputs": []
    },
    {
      "cell_type": "markdown",
      "metadata": {
        "id": "exwW1zqr5MiO"
      },
      "source": [
        "**Applying AutoML**"
      ]
    },
    {
      "cell_type": "markdown",
      "metadata": {
        "id": "SG8U5PoO5QpO"
      },
      "source": [
        "Now, we are all set for applying AutoML on our dataset. The AutoML will run for a fixed amount of time set by us and give us the optimized model. We set up the AutoML using the following statement −"
      ]
    },
    {
      "cell_type": "code",
      "metadata": {
        "id": "TtDE_CJS5RRQ"
      },
      "source": [
        "automl = H2OAutoML(max_models = 30, max_runtime_secs=300, seed = 1)"
      ],
      "execution_count": null,
      "outputs": []
    },
    {
      "cell_type": "markdown",
      "metadata": {
        "id": "z1_2x0lp5Zcf"
      },
      "source": [
        "The first parameter specifies the number of models that we want to evaluate and compare.\n",
        "\n",
        "The second parameter specifies the time for which the algorithm runs.\n",
        "\n",
        "We now call the train method on the AutoML object as shown here −"
      ]
    },
    {
      "cell_type": "code",
      "metadata": {
        "id": "4GYhzm0t5glX",
        "colab": {
          "base_uri": "https://localhost:8080/",
          "height": 122
        },
        "outputId": "dc3b814d-97d0-4a4a-a99a-4f35249103c7"
      },
      "source": [
        "automl.train(x =features, y =output, training_frame = train)"
      ],
      "execution_count": null,
      "outputs": [
        {
          "output_type": "stream",
          "text": [
            "AutoML progress: |███████████\n",
            "18:52:11.228: Skipping training of model GBM_5_AutoML_20200729_185148 due to exception: water.exceptions.H2OModelBuilderIllegalArgumentException: Illegal argument(s) for GBM model: GBM_5_AutoML_20200729_185148.  Details: ERRR on field: _min_rows: The dataset size is too small to split for min_rows=100.0: must have at least 200.0 (weighted) rows, but have only 123.0.\n",
            "\n",
            "\n",
            "█████████████████████████████████████████████| 100%\n"
          ],
          "name": "stdout"
        }
      ]
    },
    {
      "cell_type": "markdown",
      "metadata": {
        "id": "Z8uFrx6z6xT1"
      },
      "source": [
        "We specify the x as the features array that we created earlier, the y as the output variable to indicate the predicted value and the dataframe as train dataset.\n",
        "\n",
        "Run the code, you will have to wait for 5 minutes (we set the max_runtime_secs to 300) until you get the following output −"
      ]
    },
    {
      "cell_type": "markdown",
      "metadata": {
        "id": "X3dxlKWz61C4"
      },
      "source": [
        "**Printing the Leaderboard**"
      ]
    },
    {
      "cell_type": "markdown",
      "metadata": {
        "id": "vPFplfWE63TI"
      },
      "source": [
        "When the AutoML processing completes, it creates a leaderboard ranking all the 30 algorithms that it has evaluated. To see the first 10 records of the leaderboard, use the following code −"
      ]
    },
    {
      "cell_type": "code",
      "metadata": {
        "id": "zGOeXtFg69H3",
        "colab": {
          "base_uri": "https://localhost:8080/",
          "height": 250
        },
        "outputId": "f4e088e3-ea91-40eb-c23e-8890d111a0fa"
      },
      "source": [
        "lb = automl.leaderboard\n",
        "lb.head()"
      ],
      "execution_count": null,
      "outputs": [
        {
          "output_type": "display_data",
          "data": {
            "text/html": [
              "<table>\n",
              "<thead>\n",
              "<tr><th>model_id                                           </th><th style=\"text-align: right;\">  mean_per_class_error</th><th style=\"text-align: right;\">  logloss</th><th style=\"text-align: right;\">    rmse</th><th style=\"text-align: right;\">      mse</th></tr>\n",
              "</thead>\n",
              "<tbody>\n",
              "<tr><td>GLM_1_AutoML_20200729_185148                       </td><td style=\"text-align: right;\">             0.0238372</td><td style=\"text-align: right;\">0.0780831</td><td style=\"text-align: right;\">0.153723</td><td style=\"text-align: right;\">0.0236306</td></tr>\n",
              "<tr><td>XGBoost_1_AutoML_20200729_185148                   </td><td style=\"text-align: right;\">             0.0405039</td><td style=\"text-align: right;\">0.211211 </td><td style=\"text-align: right;\">0.227813</td><td style=\"text-align: right;\">0.0518988</td></tr>\n",
              "<tr><td>GBM_grid__1_AutoML_20200729_185148_model_4         </td><td style=\"text-align: right;\">             0.0405039</td><td style=\"text-align: right;\">0.141385 </td><td style=\"text-align: right;\">0.191948</td><td style=\"text-align: right;\">0.036844 </td></tr>\n",
              "<tr><td>StackedEnsemble_AllModels_AutoML_20200729_185148   </td><td style=\"text-align: right;\">             0.0405039</td><td style=\"text-align: right;\">0.209262 </td><td style=\"text-align: right;\">0.217512</td><td style=\"text-align: right;\">0.0473116</td></tr>\n",
              "<tr><td>DeepLearning_grid__2_AutoML_20200729_185148_model_1</td><td style=\"text-align: right;\">             0.0405039</td><td style=\"text-align: right;\">0.178255 </td><td style=\"text-align: right;\">0.18503 </td><td style=\"text-align: right;\">0.0342359</td></tr>\n",
              "<tr><td>XGBoost_3_AutoML_20200729_185148                   </td><td style=\"text-align: right;\">             0.0405039</td><td style=\"text-align: right;\">0.143473 </td><td style=\"text-align: right;\">0.195478</td><td style=\"text-align: right;\">0.0382116</td></tr>\n",
              "<tr><td>XGBoost_grid__1_AutoML_20200729_185148_model_4     </td><td style=\"text-align: right;\">             0.0405039</td><td style=\"text-align: right;\">0.128332 </td><td style=\"text-align: right;\">0.180665</td><td style=\"text-align: right;\">0.0326399</td></tr>\n",
              "<tr><td>StackedEnsemble_BestOfFamily_AutoML_20200729_185148</td><td style=\"text-align: right;\">             0.0405039</td><td style=\"text-align: right;\">0.243483 </td><td style=\"text-align: right;\">0.235017</td><td style=\"text-align: right;\">0.0552331</td></tr>\n",
              "<tr><td>XGBoost_grid__1_AutoML_20200729_185148_model_5     </td><td style=\"text-align: right;\">             0.0405039</td><td style=\"text-align: right;\">0.199859 </td><td style=\"text-align: right;\">0.216986</td><td style=\"text-align: right;\">0.047083 </td></tr>\n",
              "<tr><td>GBM_grid__1_AutoML_20200729_185148_model_5         </td><td style=\"text-align: right;\">             0.0488372</td><td style=\"text-align: right;\">0.169129 </td><td style=\"text-align: right;\">0.210865</td><td style=\"text-align: right;\">0.0444642</td></tr>\n",
              "</tbody>\n",
              "</table>"
            ]
          },
          "metadata": {
            "tags": []
          }
        },
        {
          "output_type": "execute_result",
          "data": {
            "text/plain": [
              ""
            ]
          },
          "metadata": {
            "tags": []
          },
          "execution_count": 32
        }
      ]
    },
    {
      "cell_type": "markdown",
      "metadata": {
        "id": "q7miqciv77Og"
      },
      "source": [
        "**Predicting on Test Data**"
      ]
    },
    {
      "cell_type": "markdown",
      "metadata": {
        "id": "hLzI9FnL8Bw7"
      },
      "source": [
        "Now, you have the models ranked, you can see the performance of the top-rated model on your test data. To do so, run the following code statement −"
      ]
    },
    {
      "cell_type": "code",
      "metadata": {
        "id": "lnUgkUa08Cwg",
        "colab": {
          "base_uri": "https://localhost:8080/",
          "height": 34
        },
        "outputId": "4696dff6-da0a-4a91-832f-ff8ea5b289d2"
      },
      "source": [
        "preds = automl.predict(test)"
      ],
      "execution_count": null,
      "outputs": [
        {
          "output_type": "stream",
          "text": [
            "glm prediction progress: |████████████████████████████████████████████████| 100%\n"
          ],
          "name": "stdout"
        }
      ]
    },
    {
      "cell_type": "markdown",
      "metadata": {
        "id": "KMD4-wQy8NGB"
      },
      "source": [
        "**Printing Result**"
      ]
    },
    {
      "cell_type": "markdown",
      "metadata": {
        "id": "FD_STdWd8R0o"
      },
      "source": [
        "Print the predicted result using the following statement −"
      ]
    },
    {
      "cell_type": "code",
      "metadata": {
        "id": "oBGIyQxz8SjY",
        "colab": {
          "base_uri": "https://localhost:8080/",
          "height": 267
        },
        "outputId": "60c323a3-a1ac-48d3-aade-887936ef4c51"
      },
      "source": [
        "print (preds)"
      ],
      "execution_count": null,
      "outputs": [
        {
          "output_type": "display_data",
          "data": {
            "text/html": [
              "<table>\n",
              "<thead>\n",
              "<tr><th>predict  </th><th style=\"text-align: right;\">  Setosa</th><th style=\"text-align: right;\">  Versicolor</th><th style=\"text-align: right;\">  Virginica</th></tr>\n",
              "</thead>\n",
              "<tbody>\n",
              "<tr><td>Setosa   </td><td style=\"text-align: right;\">0.998816</td><td style=\"text-align: right;\"> 0.00118353 </td><td style=\"text-align: right;\">1.60418e-16</td></tr>\n",
              "<tr><td>Setosa   </td><td style=\"text-align: right;\">0.999697</td><td style=\"text-align: right;\"> 0.000302757</td><td style=\"text-align: right;\">2.45932e-17</td></tr>\n",
              "<tr><td>Setosa   </td><td style=\"text-align: right;\">0.998615</td><td style=\"text-align: right;\"> 0.00138542 </td><td style=\"text-align: right;\">2.82535e-16</td></tr>\n",
              "<tr><td>Setosa   </td><td style=\"text-align: right;\">0.999405</td><td style=\"text-align: right;\"> 0.000595221</td><td style=\"text-align: right;\">3.82059e-17</td></tr>\n",
              "<tr><td>Setosa   </td><td style=\"text-align: right;\">0.997888</td><td style=\"text-align: right;\"> 0.0021118  </td><td style=\"text-align: right;\">3.46002e-17</td></tr>\n",
              "<tr><td>Setosa   </td><td style=\"text-align: right;\">0.989374</td><td style=\"text-align: right;\"> 0.0106258  </td><td style=\"text-align: right;\">1.6211e-15 </td></tr>\n",
              "<tr><td>Setosa   </td><td style=\"text-align: right;\">0.999287</td><td style=\"text-align: right;\"> 0.000713256</td><td style=\"text-align: right;\">6.43839e-17</td></tr>\n",
              "<tr><td>Setosa   </td><td style=\"text-align: right;\">0.999276</td><td style=\"text-align: right;\"> 0.000723839</td><td style=\"text-align: right;\">1.72141e-17</td></tr>\n",
              "<tr><td>Setosa   </td><td style=\"text-align: right;\">0.99681 </td><td style=\"text-align: right;\"> 0.00318959 </td><td style=\"text-align: right;\">6.00182e-15</td></tr>\n",
              "<tr><td>Setosa   </td><td style=\"text-align: right;\">0.994585</td><td style=\"text-align: right;\"> 0.00541516 </td><td style=\"text-align: right;\">1.38801e-15</td></tr>\n",
              "</tbody>\n",
              "</table>"
            ]
          },
          "metadata": {
            "tags": []
          }
        },
        {
          "output_type": "stream",
          "text": [
            "\n"
          ],
          "name": "stdout"
        }
      ]
    },
    {
      "cell_type": "markdown",
      "metadata": {
        "id": "dc3Kqw498by4"
      },
      "source": [
        "**Printing the Ranking for All**"
      ]
    },
    {
      "cell_type": "markdown",
      "metadata": {
        "id": "6YfJc90C8fRi"
      },
      "source": [
        "If you want to see the ranks of all the tested algorithms, run the following code statement −"
      ]
    },
    {
      "cell_type": "code",
      "metadata": {
        "id": "dPXY104d8iDg",
        "colab": {
          "base_uri": "https://localhost:8080/",
          "height": 712
        },
        "outputId": "e70d5906-3ca8-4c8d-eb75-b834fa8e9c04"
      },
      "source": [
        "lb.head(rows = lb.nrows)"
      ],
      "execution_count": null,
      "outputs": [
        {
          "output_type": "display_data",
          "data": {
            "text/html": [
              "<table>\n",
              "<thead>\n",
              "<tr><th>model_id                                           </th><th style=\"text-align: right;\">  mean_per_class_error</th><th style=\"text-align: right;\">  logloss</th><th style=\"text-align: right;\">    rmse</th><th style=\"text-align: right;\">      mse</th></tr>\n",
              "</thead>\n",
              "<tbody>\n",
              "<tr><td>GLM_1_AutoML_20200729_185148                       </td><td style=\"text-align: right;\">             0.0238372</td><td style=\"text-align: right;\">0.0780831</td><td style=\"text-align: right;\">0.153723</td><td style=\"text-align: right;\">0.0236306</td></tr>\n",
              "<tr><td>XGBoost_1_AutoML_20200729_185148                   </td><td style=\"text-align: right;\">             0.0405039</td><td style=\"text-align: right;\">0.211211 </td><td style=\"text-align: right;\">0.227813</td><td style=\"text-align: right;\">0.0518988</td></tr>\n",
              "<tr><td>GBM_grid__1_AutoML_20200729_185148_model_4         </td><td style=\"text-align: right;\">             0.0405039</td><td style=\"text-align: right;\">0.141385 </td><td style=\"text-align: right;\">0.191948</td><td style=\"text-align: right;\">0.036844 </td></tr>\n",
              "<tr><td>StackedEnsemble_AllModels_AutoML_20200729_185148   </td><td style=\"text-align: right;\">             0.0405039</td><td style=\"text-align: right;\">0.209262 </td><td style=\"text-align: right;\">0.217512</td><td style=\"text-align: right;\">0.0473116</td></tr>\n",
              "<tr><td>DeepLearning_grid__2_AutoML_20200729_185148_model_1</td><td style=\"text-align: right;\">             0.0405039</td><td style=\"text-align: right;\">0.178255 </td><td style=\"text-align: right;\">0.18503 </td><td style=\"text-align: right;\">0.0342359</td></tr>\n",
              "<tr><td>XGBoost_3_AutoML_20200729_185148                   </td><td style=\"text-align: right;\">             0.0405039</td><td style=\"text-align: right;\">0.143473 </td><td style=\"text-align: right;\">0.195478</td><td style=\"text-align: right;\">0.0382116</td></tr>\n",
              "<tr><td>XGBoost_grid__1_AutoML_20200729_185148_model_4     </td><td style=\"text-align: right;\">             0.0405039</td><td style=\"text-align: right;\">0.128332 </td><td style=\"text-align: right;\">0.180665</td><td style=\"text-align: right;\">0.0326399</td></tr>\n",
              "<tr><td>StackedEnsemble_BestOfFamily_AutoML_20200729_185148</td><td style=\"text-align: right;\">             0.0405039</td><td style=\"text-align: right;\">0.243483 </td><td style=\"text-align: right;\">0.235017</td><td style=\"text-align: right;\">0.0552331</td></tr>\n",
              "<tr><td>XGBoost_grid__1_AutoML_20200729_185148_model_5     </td><td style=\"text-align: right;\">             0.0405039</td><td style=\"text-align: right;\">0.199859 </td><td style=\"text-align: right;\">0.216986</td><td style=\"text-align: right;\">0.047083 </td></tr>\n",
              "<tr><td>GBM_grid__1_AutoML_20200729_185148_model_5         </td><td style=\"text-align: right;\">             0.0488372</td><td style=\"text-align: right;\">0.169129 </td><td style=\"text-align: right;\">0.210865</td><td style=\"text-align: right;\">0.0444642</td></tr>\n",
              "<tr><td>XGBoost_grid__1_AutoML_20200729_185148_model_3     </td><td style=\"text-align: right;\">             0.0488372</td><td style=\"text-align: right;\">0.140527 </td><td style=\"text-align: right;\">0.199104</td><td style=\"text-align: right;\">0.0396423</td></tr>\n",
              "<tr><td>XGBoost_grid__1_AutoML_20200729_185148_model_8     </td><td style=\"text-align: right;\">             0.0488372</td><td style=\"text-align: right;\">0.219925 </td><td style=\"text-align: right;\">0.230715</td><td style=\"text-align: right;\">0.0532296</td></tr>\n",
              "<tr><td>GBM_3_AutoML_20200729_185148                       </td><td style=\"text-align: right;\">             0.0488372</td><td style=\"text-align: right;\">0.124051 </td><td style=\"text-align: right;\">0.186872</td><td style=\"text-align: right;\">0.0349212</td></tr>\n",
              "<tr><td>XRT_1_AutoML_20200729_185148                       </td><td style=\"text-align: right;\">             0.0488372</td><td style=\"text-align: right;\">0.11961  </td><td style=\"text-align: right;\">0.189926</td><td style=\"text-align: right;\">0.036072 </td></tr>\n",
              "<tr><td>GBM_4_AutoML_20200729_185148                       </td><td style=\"text-align: right;\">             0.0488372</td><td style=\"text-align: right;\">0.119851 </td><td style=\"text-align: right;\">0.186391</td><td style=\"text-align: right;\">0.0347414</td></tr>\n",
              "<tr><td>GBM_2_AutoML_20200729_185148                       </td><td style=\"text-align: right;\">             0.0488372</td><td style=\"text-align: right;\">0.115506 </td><td style=\"text-align: right;\">0.184766</td><td style=\"text-align: right;\">0.0341385</td></tr>\n",
              "<tr><td>DeepLearning_grid__3_AutoML_20200729_185148_model_1</td><td style=\"text-align: right;\">             0.05     </td><td style=\"text-align: right;\">0.558461 </td><td style=\"text-align: right;\">0.226436</td><td style=\"text-align: right;\">0.0512733</td></tr>\n",
              "<tr><td>XGBoost_grid__1_AutoML_20200729_185148_model_9     </td><td style=\"text-align: right;\">             0.0560078</td><td style=\"text-align: right;\">0.318228 </td><td style=\"text-align: right;\">0.289024</td><td style=\"text-align: right;\">0.0835347</td></tr>\n",
              "<tr><td>XGBoost_grid__1_AutoML_20200729_185148_model_7     </td><td style=\"text-align: right;\">             0.0560078</td><td style=\"text-align: right;\">0.324133 </td><td style=\"text-align: right;\">0.289415</td><td style=\"text-align: right;\">0.0837609</td></tr>\n",
              "<tr><td>GBM_1_AutoML_20200729_185148                       </td><td style=\"text-align: right;\">             0.0571705</td><td style=\"text-align: right;\">0.158803 </td><td style=\"text-align: right;\">0.209809</td><td style=\"text-align: right;\">0.0440199</td></tr>\n",
              "<tr><td>GBM_grid__1_AutoML_20200729_185148_model_3         </td><td style=\"text-align: right;\">             0.0649225</td><td style=\"text-align: right;\">0.175643 </td><td style=\"text-align: right;\">0.228289</td><td style=\"text-align: right;\">0.0521158</td></tr>\n",
              "<tr><td>XGBoost_grid__1_AutoML_20200729_185148_model_1     </td><td style=\"text-align: right;\">             0.0649225</td><td style=\"text-align: right;\">0.16002  </td><td style=\"text-align: right;\">0.207131</td><td style=\"text-align: right;\">0.0429032</td></tr>\n",
              "<tr><td>XGBoost_grid__1_AutoML_20200729_185148_model_6     </td><td style=\"text-align: right;\">             0.0655039</td><td style=\"text-align: right;\">0.39144  </td><td style=\"text-align: right;\">0.3293  </td><td style=\"text-align: right;\">0.108438 </td></tr>\n",
              "<tr><td>DRF_1_AutoML_20200729_185148                       </td><td style=\"text-align: right;\">             0.0655039</td><td style=\"text-align: right;\">0.116448 </td><td style=\"text-align: right;\">0.193504</td><td style=\"text-align: right;\">0.0374438</td></tr>\n",
              "<tr><td>GBM_grid__1_AutoML_20200729_185148_model_2         </td><td style=\"text-align: right;\">             0.0655039</td><td style=\"text-align: right;\">0.155034 </td><td style=\"text-align: right;\">0.203455</td><td style=\"text-align: right;\">0.0413941</td></tr>\n",
              "<tr><td>DeepLearning_1_AutoML_20200729_185148              </td><td style=\"text-align: right;\">             0.0666667</td><td style=\"text-align: right;\">0.202645 </td><td style=\"text-align: right;\">0.241589</td><td style=\"text-align: right;\">0.0583652</td></tr>\n",
              "<tr><td>DeepLearning_grid__1_AutoML_20200729_185148_model_1</td><td style=\"text-align: right;\">             0.0827519</td><td style=\"text-align: right;\">0.433463 </td><td style=\"text-align: right;\">0.262456</td><td style=\"text-align: right;\">0.0688831</td></tr>\n",
              "<tr><td>XGBoost_2_AutoML_20200729_185148                   </td><td style=\"text-align: right;\">             0.0875969</td><td style=\"text-align: right;\">0.432364 </td><td style=\"text-align: right;\">0.358982</td><td style=\"text-align: right;\">0.128868 </td></tr>\n",
              "<tr><td>DeepLearning_grid__3_AutoML_20200729_185148_model_2</td><td style=\"text-align: right;\">             0.207171 </td><td style=\"text-align: right;\">0.944532 </td><td style=\"text-align: right;\">0.406824</td><td style=\"text-align: right;\">0.165506 </td></tr>\n",
              "<tr><td>DeepLearning_grid__1_AutoML_20200729_185148_model_2</td><td style=\"text-align: right;\">             0.233333 </td><td style=\"text-align: right;\">0.796237 </td><td style=\"text-align: right;\">0.436592</td><td style=\"text-align: right;\">0.190612 </td></tr>\n",
              "<tr><td>DeepLearning_grid__2_AutoML_20200729_185148_model_2</td><td style=\"text-align: right;\">             0.275    </td><td style=\"text-align: right;\">1.52058  </td><td style=\"text-align: right;\">0.501132</td><td style=\"text-align: right;\">0.251133 </td></tr>\n",
              "<tr><td>XGBoost_grid__1_AutoML_20200729_185148_model_2     </td><td style=\"text-align: right;\">             0.666667 </td><td style=\"text-align: right;\">1.0984   </td><td style=\"text-align: right;\">0.666492</td><td style=\"text-align: right;\">0.444212 </td></tr>\n",
              "</tbody>\n",
              "</table>"
            ]
          },
          "metadata": {
            "tags": []
          }
        },
        {
          "output_type": "execute_result",
          "data": {
            "text/plain": [
              ""
            ]
          },
          "metadata": {
            "tags": []
          },
          "execution_count": 35
        }
      ]
    },
    {
      "cell_type": "markdown",
      "metadata": {
        "id": "pWJrk0ow8nXy"
      },
      "source": [
        "**Conclusion**"
      ]
    },
    {
      "cell_type": "markdown",
      "metadata": {
        "id": "7KM8OUd38pkr"
      },
      "source": [
        "H2O provides an easy-to-use open source platform for applying different ML algorithms on a given dataset. It provides several statistical and ML algorithms including deep learning. During testing, you can fine tune the parameters to these algorithms. You can do so using command-line or the provided web-based interface called Flow. H2O also supports AutoML that provides the ranking amongst the several algorithms based on their performance. H2O also performs well on Big Data. This is definitely a boon for Data Scientist to apply the different Machine Learning models on their dataset and pick up the best one to meet their needs."
      ]
    }
  ]
}